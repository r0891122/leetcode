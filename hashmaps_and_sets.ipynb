{
 "cells": [
  {
   "cell_type": "code",
   "execution_count": null,
   "metadata": {},
   "outputs": [],
   "source": [
    "#771. Jewels and stones\n",
    "def numJewelsInStones(self, jewels, stones):\n",
    "    uniq_char = set(stones)\n",
    "    d = {}\n",
    "\n",
    "    for c in uniq_char:\n",
    "        counter = 0\n",
    "        for x in stones:\n",
    "            if x == c:\n",
    "                counter += 1\n",
    "        d[c] = counter\n",
    "\n",
    "    tot = 0\n",
    "\n",
    "    for j in jewels:\n",
    "        if j in d.keys():\n",
    "            tot += d[j]\n",
    "        \n",
    "    return tot"
   ]
  },
  {
   "cell_type": "code",
   "execution_count": null,
   "metadata": {},
   "outputs": [],
   "source": [
    "#217. Contains Duplicates\n",
    "def containsDuplicate(self, nums):\n",
    "    s = set(nums)\n",
    "    if len(s) < len(nums):\n",
    "        return True\n",
    "    else:\n",
    "        return False"
   ]
  },
  {
   "cell_type": "code",
   "execution_count": null,
   "metadata": {},
   "outputs": [],
   "source": [
    "#383. Ransom Note (Version 1)\n",
    "def canConstruct(self, ransomNote, magazine):\n",
    "        check = True\n",
    "        mag_list = []\n",
    "        for l in magazine:\n",
    "            mag_list += [l]\n",
    "        for l in ransomNote:\n",
    "            if l in mag_list:\n",
    "                mag_list.remove(l)\n",
    "            else:\n",
    "                check = False\n",
    "        return check"
   ]
  },
  {
   "cell_type": "code",
   "execution_count": null,
   "metadata": {},
   "outputs": [],
   "source": [
    "#383. Ransom Note (version 2)\n",
    "def canConstruct(self, ransomNote, magazine):\n",
    "        uniq = set(magazine)\n",
    "        d = {}\n",
    "        for c in uniq:\n",
    "            counter = 0\n",
    "            for x in magazine:\n",
    "                if c == x:\n",
    "                    counter += 1\n",
    "            d[c] = counter\n",
    "        \n",
    "    \n",
    "        for c in ransomNote:\n",
    "            if c in d.keys():\n",
    "                if d[c] > 0:\n",
    "                    d[c] -= 1\n",
    "                else:\n",
    "                    return False\n",
    "            else:\n",
    "                return False\n",
    "        return True"
   ]
  }
 ],
 "metadata": {
  "kernelspec": {
   "display_name": "Python 3",
   "language": "python",
   "name": "python3"
  },
  "language_info": {
   "codemirror_mode": {
    "name": "ipython",
    "version": 3
   },
   "file_extension": ".py",
   "mimetype": "text/x-python",
   "name": "python",
   "nbconvert_exporter": "python",
   "pygments_lexer": "ipython3",
   "version": "3.10.7"
  }
 },
 "nbformat": 4,
 "nbformat_minor": 2
}
