{
 "cells": [
  {
   "cell_type": "code",
   "execution_count": null,
   "metadata": {},
   "outputs": [],
   "source": [
    "#771. Jewels and stones\n",
    "def numJewelsInStones(self, jewels, stones):\n",
    "    uniq_char = set(stones)\n",
    "    d = {}\n",
    "\n",
    "    for c in uniq_char:\n",
    "        counter = 0\n",
    "        for x in stones:\n",
    "            if x == c:\n",
    "                counter += 1\n",
    "        d[c] = counter\n",
    "\n",
    "    tot = 0\n",
    "\n",
    "    for j in jewels:\n",
    "        if j in d.keys():\n",
    "            tot += d[j]\n",
    "        \n",
    "    return tot"
   ]
  },
  {
   "cell_type": "code",
   "execution_count": null,
   "metadata": {},
   "outputs": [],
   "source": [
    "#217. Contains Duplicates\n",
    "def containsDuplicate(self, nums):\n",
    "    s = set(nums)\n",
    "    if len(s) < len(nums):\n",
    "        return True\n",
    "    else:\n",
    "        return False"
   ]
  }
 ],
 "metadata": {
  "kernelspec": {
   "display_name": "Python 3",
   "language": "python",
   "name": "python3"
  },
  "language_info": {
   "codemirror_mode": {
    "name": "ipython",
    "version": 3
   },
   "file_extension": ".py",
   "mimetype": "text/x-python",
   "name": "python",
   "nbconvert_exporter": "python",
   "pygments_lexer": "ipython3",
   "version": "3.10.7"
  }
 },
 "nbformat": 4,
 "nbformat_minor": 2
}
