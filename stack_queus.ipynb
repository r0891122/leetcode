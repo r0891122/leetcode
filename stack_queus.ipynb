{
 "cells": [
  {
   "cell_type": "code",
   "execution_count": null,
   "metadata": {},
   "outputs": [],
   "source": [
    "#682. Baseball game\n",
    "def calPoints(self, operations):\n",
    "        stk = []\n",
    "        for o in operations:\n",
    "            if o == \"D\":\n",
    "                stk.append(int(stk[-1]*2))\n",
    "            elif o == \"C\":\n",
    "                stk.pop()\n",
    "            elif o == \"+\":\n",
    "                stk.append(int(stk[-1] + stk[-2]))\n",
    "            else:\n",
    "                stk.append(int(o))\n",
    "        return sum(stk)"
   ]
  }
 ],
 "metadata": {
  "language_info": {
   "name": "python"
  }
 },
 "nbformat": 4,
 "nbformat_minor": 2
}
