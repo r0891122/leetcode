{
 "cells": [
  {
   "cell_type": "code",
   "execution_count": null,
   "metadata": {},
   "outputs": [],
   "source": [
    "#682. Baseball game\n",
    "def calPoints(self, operations):\n",
    "        stk = []\n",
    "        for o in operations:\n",
    "            if o == \"D\":\n",
    "                stk.append(int(stk[-1]*2))\n",
    "            elif o == \"C\":\n",
    "                stk.pop()\n",
    "            elif o == \"+\":\n",
    "                stk.append(int(stk[-1] + stk[-2]))\n",
    "            else:\n",
    "                stk.append(int(o))\n",
    "        return sum(stk)"
   ]
  },
  {
   "cell_type": "code",
   "execution_count": null,
   "metadata": {},
   "outputs": [],
   "source": [
    "#20. Valid Parentheses\n",
    "def isValid(self, s):\n",
    "        hashmap = {\")\":\"(\", \"}\":\"{\", \"]\":\"[\"}\n",
    "        stk = []\n",
    "        \n",
    "        for c in s:\n",
    "            if c not in hashmap: #is it an open bracket\n",
    "                stk.append(c)\n",
    "            else:\n",
    "                if not stk:\n",
    "                    return False\n",
    "                else:\n",
    "                    popped = stk.pop()\n",
    "                    # is the open bracket matching with the bracket that matches in the hashmap at c\n",
    "                    if popped != hashmap[c]:\n",
    "                        return False\n",
    "\n",
    "        return not stk #make sure that the stack is empty"
   ]
  }
 ],
 "metadata": {
  "language_info": {
   "name": "python"
  }
 },
 "nbformat": 4,
 "nbformat_minor": 2
}
