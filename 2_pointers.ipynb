{
 "cells": [
  {
   "cell_type": "code",
   "execution_count": null,
   "metadata": {},
   "outputs": [],
   "source": [
    "#977. Squares of a sorted array\n",
    "def sortedSquares(self, nums):\n",
    "        squares = []\n",
    "        for s in nums:\n",
    "            squares += [s*s]\n",
    "\n",
    "        l = 0\n",
    "        r = len(squares) - 1\n",
    "        output = []\n",
    "        while l <= r:\n",
    "            if squares[l] > squares[r]:\n",
    "                output.append(squares[l])\n",
    "                l += 1\n",
    "            else:\n",
    "                output.append(squares[r])\n",
    "                r -= 1\n",
    "        output.reverse()\n",
    "\n",
    "        return output"
   ]
  },
  {
   "cell_type": "code",
   "execution_count": null,
   "metadata": {},
   "outputs": [],
   "source": [
    "#344 Reverse string\n",
    "def reverseString(self, s):\n",
    "        l = 0\n",
    "        r = len(s) -1\n",
    "        temp = \"\"\n",
    "        while l <= r:\n",
    "            temp = s[l]\n",
    "            s[l] = s[r]\n",
    "            s[r] = temp\n",
    "            l += 1\n",
    "            r -= 1\n",
    "\n",
    "        return s"
   ]
  },
  {
   "cell_type": "code",
   "execution_count": null,
   "metadata": {},
   "outputs": [],
   "source": [
    "#167. Two sum II - Input array is sorted\n",
    "def twoSum(self, numbers, target):\n",
    "        \"\"\"\n",
    "        :type numbers: List[int]\n",
    "        :type target: int\n",
    "        :rtype: List[int]\n",
    "        \"\"\"\n",
    "        l = 0\n",
    "        r = len(numbers) -1\n",
    "        while l <= r:\n",
    "            s = numbers[l] + numbers[r]\n",
    "            if s == target:\n",
    "                return [l+1, r+1]\n",
    "            if s > target:\n",
    "                r -= 1\n",
    "            if s < target:\n",
    "                l += 1"
   ]
  }
 ],
 "metadata": {
  "language_info": {
   "name": "python"
  }
 },
 "nbformat": 4,
 "nbformat_minor": 2
}
