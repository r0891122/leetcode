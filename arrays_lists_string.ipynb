{
 "cells": [
  {
   "cell_type": "code",
   "execution_count": null,
   "metadata": {},
   "outputs": [],
   "source": [
    "#2239. Find closest number to zero\n",
    "def findClosestNumber(self, nums):\n",
    "    closest = max(nums)\n",
    "    og = max(nums)\n",
    "    for num in nums:\n",
    "        if abs(num) < closest:\n",
    "            closest = abs(num)\n",
    "            og = num\n",
    "        if abs(num) == closest:\n",
    "            if num > og:\n",
    "                closest = abs(num)\n",
    "                og = num\n",
    "        \n",
    "    return og"
   ]
  },
  {
   "cell_type": "code",
   "execution_count": null,
   "metadata": {},
   "outputs": [],
   "source": [
    "#1768. Merge string alternately\n",
    "def mergeAlternately(self, word1, word2):\n",
    "    output = \"\"\n",
    "\n",
    "    for i in range(0, min(len(word1), len(word2))):\n",
    "        output = output + word1[i] + word2[i]\n",
    "            \n",
    "    dif = abs(len(word1) - len(word2))\n",
    "    if len(word1) > len(word2):\n",
    "        output = output + word1[-dif:]\n",
    "    if len(word2) > len(word1):\n",
    "        output = output + word2[-dif:]\n",
    "    return output"
   ]
  },
  {
   "cell_type": "code",
   "execution_count": null,
   "metadata": {},
   "outputs": [],
   "source": [
    "#13. Roman to integer\n",
    "def romanToInt(self, s):\n",
    "    rom = ['I', 'V', 'X', 'L', 'C', 'D', 'M']\n",
    "    num = [1, 5, 10, 50, 100, 500, 1000]\n",
    "    split = []\n",
    "    for char in s:\n",
    "        split += [num[rom.index(char)]]\n",
    "        \n",
    "    split += [0]\n",
    "    last = split[0]\n",
    "    for i in range(0, len(split)-1):\n",
    "        if split[i] > last:\n",
    "            split[i-1] = split[i]-last\n",
    "            last = split.pop(i)\n",
    "            split.insert(i, 0)\n",
    "        else:\n",
    "            last = split[i]   \n",
    "        i+=1\n",
    "    return sum(split)"
   ]
  },
  {
   "cell_type": "code",
   "execution_count": null,
   "metadata": {},
   "outputs": [],
   "source": [
    "#392. Is Subsequence\n",
    "def isSubsequence(self, s, t):\n",
    "    if s == \"\": return True\n",
    "    i = 0\n",
    "\n",
    "    for j in t:\n",
    "        if j == s[i]:\n",
    "            if i == len(s)-1:\n",
    "                return True\n",
    "            i += 1\n",
    "    return False"
   ]
  }
 ],
 "metadata": {
  "language_info": {
   "name": "python"
  }
 },
 "nbformat": 4,
 "nbformat_minor": 2
}
